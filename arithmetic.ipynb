{
 "cells": [
  {
   "cell_type": "code",
   "execution_count": 1,
   "id": "1509f7cf",
   "metadata": {},
   "outputs": [],
   "source": [
    "import numpy as np"
   ]
  },
  {
   "cell_type": "code",
   "execution_count": 2,
   "id": "bad7fc23",
   "metadata": {},
   "outputs": [],
   "source": [
    "def tent_map(x, limit=10, precision='double'):\n",
    "    float_type = np.float32 if precision == 'single' else np.float64\n",
    "    x = float_type(x)\n",
    "    \n",
    "    sequence = np.empty(limit, dtype=float_type)\n",
    "    for i in range(limit):\n",
    "        sequence[i] = x\n",
    "        x = 2 * x if x < 0.5 else 2 - 2 * x\n",
    "    \n",
    "    return sequence"
   ]
  },
  {
   "cell_type": "code",
   "execution_count": 3,
   "id": "55922b19",
   "metadata": {},
   "outputs": [
    {
     "data": {
      "text/plain": [
       "array([0.11111111, 0.22222222, 0.44444444, 0.88888889, 0.22222222,\n",
       "       0.44444444, 0.88888889, 0.22222222, 0.44444444, 0.88888889,\n",
       "       0.22222222, 0.44444444, 0.88888889, 0.22222222, 0.44444444,\n",
       "       0.88888889, 0.22222222, 0.44444444, 0.88888889, 0.22222222])"
      ]
     },
     "execution_count": 3,
     "metadata": {},
     "output_type": "execute_result"
    }
   ],
   "source": [
    "p = 3\n",
    "tent_map(1/(2**3+1),20)"
   ]
  },
  {
   "cell_type": "code",
   "execution_count": 4,
   "id": "4f61c62d",
   "metadata": {},
   "outputs": [
    {
     "name": "stdout",
     "output_type": "stream",
     "text": [
      "Average zero index: 52.99\n"
     ]
    }
   ],
   "source": [
    "num_tests = 100\n",
    "sequence_length = 80\n",
    "\n",
    "# Pre-allocate arrays\n",
    "results = np.empty((num_tests, sequence_length))\n",
    "zero_indices = np.zeros(num_tests, dtype=int)\n",
    "\n",
    "for i in range(num_tests):\n",
    "    initial_value = np.random.rand()\n",
    "    sequence = tent_map(initial_value, sequence_length, 'double')\n",
    "    results[i] = sequence\n",
    "    zero_indices[i] = np.argmax(sequence == 0)\n",
    "\n",
    "average_zero_index = np.mean(zero_indices)\n",
    "print(f\"Average zero index: {average_zero_index:.2f}\")"
   ]
  },
  {
   "cell_type": "code",
   "execution_count": 5,
   "id": "bba16b40",
   "metadata": {},
   "outputs": [
    {
     "name": "stdout",
     "output_type": "stream",
     "text": [
      "Average zero index: 25.07\n"
     ]
    }
   ],
   "source": [
    "num_tests = 100\n",
    "sequence_length = 80\n",
    "\n",
    "# Pre-allocate arrays\n",
    "results = np.empty((num_tests, sequence_length))\n",
    "zero_indices = np.zeros(num_tests, dtype=int)\n",
    "\n",
    "for i in range(num_tests):\n",
    "    initial_value = np.random.rand()\n",
    "    sequence = tent_map(initial_value, sequence_length, 'single')\n",
    "    results[i] = sequence\n",
    "    zero_indices[i] = np.argmax(sequence == 0)\n",
    "\n",
    "average_zero_index = np.mean(zero_indices)\n",
    "print(f\"Average zero index: {average_zero_index:.2f}\")"
   ]
  },
  {
   "cell_type": "code",
   "execution_count": null,
   "id": "0f1fd881",
   "metadata": {},
   "outputs": [],
   "source": []
  }
 ],
 "metadata": {
  "kernelspec": {
   "display_name": "Python 3 (ipykernel)",
   "language": "python",
   "name": "python3"
  },
  "language_info": {
   "codemirror_mode": {
    "name": "ipython",
    "version": 3
   },
   "file_extension": ".py",
   "mimetype": "text/x-python",
   "name": "python",
   "nbconvert_exporter": "python",
   "pygments_lexer": "ipython3",
   "version": "3.8.12"
  }
 },
 "nbformat": 4,
 "nbformat_minor": 5
}
